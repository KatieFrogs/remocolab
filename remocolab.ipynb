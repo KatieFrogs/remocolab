{
  "nbformat": 4,
  "nbformat_minor": 0,
  "metadata": {
    "colab": {
      "name": "remocolab.ipynb",
      "provenance": [],
      "collapsed_sections": []
    },
    "kernelspec": {
      "name": "python3",
      "display_name": "Python 3"
    }
  },
  "cells": [
    {
      "cell_type": "code",
      "metadata": {
        "id": "HsfwNK5mJcfj",
        "colab_type": "code",
        "colab": {}
      },
      "source": [
        "#@title remocolab {display-mode: \"form\"}\n",
        "!pip -q install git+https://github.com/LoveEevee/remocolab.git\n",
        "import remocolab\n",
        "\n",
        "#@markdown 1. Create a free [ngrok account](https://dashboard.ngrok.com/signup). No email address verification is required.\n",
        "#@markdown 2. Go to the [Auth](https://dashboard.ngrok.com/auth) page and copy your authtoken and insert it in the cell below:\n",
        "token = ''  #@param {type: \"string\"}\n",
        "\n",
        "#@markdown 3. Select your closest ngrok region below (the proxy server will have a different region):\n",
        "region = 'eu - Europe (Frankfurt)'  #@param  ['us - United States (Ohio)', 'eu - Europe (Frankfurt)', 'ap - Asia/Pacific (Singapore)', 'au - Australia (Sydney)', 'sa - South America (Sao Paulo)', 'jp - Japan (Tokyo)', 'in - India (Mumbai)']\n",
        "\n",
        "#@markdown 4. Go to **Runtime** -> **Change runtime type** and ensure that the following values are selected:\n",
        "#@markdown     * **Runtime type**: Python 3\n",
        "#@markdown     * **Hardware accelerator**: None\n",
        "#@markdown 5. Click the **Run cell** button in the top left.\n",
        "\n",
        "#@markdown It should take around a minute for everything to start. Once the proxy server starts, copy the details to SwitchyOmega!\n",
        "\n",
        "#@markdown You need to keep Colab open whilst using the proxy server. To destroy the server and start fresh, go to **Runtime** -> **Reset all runtimes...**\n",
        "\n",
        "\n",
        "remocolab.setupProxy(region, token)\n"
      ],
      "execution_count": 0,
      "outputs": []
    }
  ]
}